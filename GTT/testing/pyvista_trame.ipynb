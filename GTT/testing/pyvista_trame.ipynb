{
 "cells": [
  {
   "cell_type": "code",
   "execution_count": null,
   "id": "0",
   "metadata": {},
   "outputs": [],
   "source": [
    "import pyvista as pv"
   ]
  },
  {
   "cell_type": "code",
   "execution_count": null,
   "id": "1",
   "metadata": {},
   "outputs": [],
   "source": [
    "from pyvista import examples"
   ]
  },
  {
   "cell_type": "code",
   "execution_count": null,
   "id": "2",
   "metadata": {},
   "outputs": [],
   "source": [
    "#pv.set_jupyter_backend('trame')\n",
    "pv.set_jupyter_backend('static')"
   ]
  },
  {
   "cell_type": "code",
   "execution_count": null,
   "id": "3",
   "metadata": {},
   "outputs": [],
   "source": [
    "if 1:\n",
    "    vol = examples.download_knee_full()\n",
    "    pl = pv.Plotter()\n",
    "    pl.add_volume(vol, cmap='bone', opacity='sigmoid', show_scalar_bar=False)\n",
    "    pl.enable_depth_peeling()\n",
    "    pl.show()"
   ]
  },
  {
   "cell_type": "code",
   "execution_count": null,
   "id": "4",
   "metadata": {},
   "outputs": [],
   "source": [
    "if 1:\n",
    "    sphere = pv.Sphere()\n",
    "    sphere.plot(jupyter_backend='trame')"
   ]
  },
  {
   "cell_type": "code",
   "execution_count": null,
   "id": "5",
   "metadata": {},
   "outputs": [],
   "source": [
    "from pylab import *\n",
    "from clawpack.geoclaw import topotools\n",
    "\n",
    "topo = topotools.Topography('../topo/topofiles/Copalis_13s.asc')\n",
    "topo = topo.crop([-124.19486111, -124.15597222, 47.10791667, 47.14597222])\n",
    "\n",
    "    \n",
    "z = array([0.])\n",
    "x = (topo.x - topo.x[0]) * 111e3 * cos(topo.y.mean()*pi/180)\n",
    "y = -(topo.y - topo.y[0]) * 111e3\n",
    "print('xmax = %.1fm, ymax = %.1fm' % (x.max(),y.max()))\n",
    "X,Y,Z = meshgrid(x, y, z, indexing='ij')\n",
    "topoxyz = pv.StructuredGrid(X,Y,Z)\n",
    "\n",
    "#B = topo.Z\n",
    "B = flipud(topo.Z)\n",
    "#B = fliplr(B)\n",
    "Bmax = 50.\n",
    "#B = where(B<Bmax,B,nan)\n",
    "B = minimum(B, Bmax)\n",
    "\n",
    "topoxyz.point_data['B'] = B.flatten(order='C')\n",
    "warpfactor = 3 #15  # amplification of elevations\n",
    "topowarp = topoxyz.warp_by_scalar('B', factor=warpfactor)"
   ]
  },
  {
   "cell_type": "code",
   "execution_count": null,
   "id": "6",
   "metadata": {},
   "outputs": [],
   "source": [
    "\n",
    "# plot topo alone:\n",
    "p = pv.Plotter()\n",
    "#p.add_mesh(topoxyz,cmap='gist_earth',clim=(-5,5))\n",
    "p.add_mesh(topowarp,cmap='gist_earth',clim=(-5,20))\n",
    "#p.add_mesh(topowarp,cmap='terrain',clim=(-20,10))\n",
    "p.show(window_size=(800,500))"
   ]
  },
  {
   "cell_type": "code",
   "execution_count": null,
   "id": "7",
   "metadata": {},
   "outputs": [],
   "source": []
  }
 ],
 "metadata": {
  "kernelspec": {
   "display_name": "Python 3 (ipykernel)",
   "language": "python",
   "name": "python3"
  },
  "language_info": {
   "codemirror_mode": {
    "name": "ipython",
    "version": 3
   },
   "file_extension": ".py",
   "mimetype": "text/x-python",
   "name": "python",
   "nbconvert_exporter": "python",
   "pygments_lexer": "ipython3",
   "version": "3.13.3"
  }
 },
 "nbformat": 4,
 "nbformat_minor": 5
}
