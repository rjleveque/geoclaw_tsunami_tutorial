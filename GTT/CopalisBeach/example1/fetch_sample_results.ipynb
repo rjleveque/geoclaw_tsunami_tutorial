{
 "cells": [
  {
   "cell_type": "markdown",
   "id": "0",
   "metadata": {},
   "source": [
    "# Fetch sample results for Copalis Beach example1\n",
    "\n",
    "From the\n",
    "[GeoClaw Tsunami Tutorial](https://rjleveque.github.io/geoclaw_tsunami_tutorial)\n",
    "\n",
    "The directory `$GTT/CopalisBeach/example1`\n",
    "contains some example simulations of tsunamis inundating the coastal region\n",
    "around Copalis Beach, WA.\n",
    "\n",
    "This notebook downloads some sample results that are discussed in [](results) so that they are available without running the GeoClaw code, which takes some time to run.\n",
    "\n",
    "These sample results are also needed for building the Jupyter book on Github for rendering [](results)."
   ]
  },
  {
   "cell_type": "code",
   "execution_count": null,
   "id": "1",
   "metadata": {},
   "outputs": [],
   "source": [
    "import os\n",
    "from clawpack.clawutil.util import fullpath_import"
   ]
  },
  {
   "cell_type": "code",
   "execution_count": null,
   "id": "2",
   "metadata": {},
   "outputs": [],
   "source": [
    "GTT = os.environ['GTT']\n",
    "GTT_tools = fullpath_import(f'{GTT}/common_code/GTT_tools.py')"
   ]
  },
  {
   "cell_type": "code",
   "execution_count": null,
   "id": "3",
   "metadata": {},
   "outputs": [],
   "source": [
    "relpath = 'CopalisBeach/example1/sample_results'\n",
    "GTT_tools.fetch(relpath, force=False)"
   ]
  },
  {
   "cell_type": "code",
   "execution_count": null,
   "id": "4",
   "metadata": {},
   "outputs": [],
   "source": []
  }
 ],
 "metadata": {
  "kernelspec": {
   "display_name": "Python 3 (ipykernel)",
   "language": "python",
   "name": "python3"
  },
  "language_info": {
   "codemirror_mode": {
    "name": "ipython",
    "version": 3
   },
   "file_extension": ".py",
   "mimetype": "text/x-python",
   "name": "python",
   "nbconvert_exporter": "python",
   "pygments_lexer": "ipython3",
   "version": "3.13.3"
  }
 },
 "nbformat": 4,
 "nbformat_minor": 5
}
