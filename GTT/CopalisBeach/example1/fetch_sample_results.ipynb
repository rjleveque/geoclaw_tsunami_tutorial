{
 "cells": [
  {
   "cell_type": "markdown",
   "id": "0",
   "metadata": {},
   "source": [
    "# Fetch sample results for Copalis Beach example1\n",
    "\n",
    "From the\n",
    "[GeoClaw Tsunami Tutorial](https://rjleveque.github.io/geoclaw_tsunami_tutorial)\n",
    "\n",
    "The directory `$GTT/CopalisBeach/example1`\n",
    "contains some example simulations of tsunamis inundating the coastal region\n",
    "around Copalis Beach, WA.\n",
    "\n",
    "This notebook downloads some sample results that are discussed in [](results) so that they are available without running the GeoClaw code, which takes some time to run.\n",
    "\n",
    "These sample results are also needed for building the Jupyter book on Github for rendering [](results)."
   ]
  },
  {
   "cell_type": "code",
   "execution_count": null,
   "id": "1",
   "metadata": {},
   "outputs": [],
   "source": [
    "import os\n",
    "#GTT = os.environ['GTT']\n",
    "GTT = os.path.abspath('../..')\n",
    "print('GTT path is ',GTT)"
   ]
  },
  {
   "cell_type": "code",
   "execution_count": null,
   "id": "2",
   "metadata": {},
   "outputs": [],
   "source": [
    "try:\n",
    "    from clawpack.clawutil.util import fullpath_import\n",
    "    GTT_tools = fullpath_import(f'{GTT}/common_code/GTT_tools.py')\n",
    "except:\n",
    "    print('importing clawpack.clawutil.util failed')\n",
    "    import clawpack\n",
    "    print(f'clawpack version: {clawpack.__version__}')\n",
    "    import sys\n",
    "    sys.path.insert(0,f'{GTT}/common_code')\n",
    "    import GTT_tools"
   ]
  },
  {
   "cell_type": "code",
   "execution_count": null,
   "id": "3",
   "metadata": {},
   "outputs": [],
   "source": [
    "GTT_tools.fetch('CopalisBeach/example1/sample_results', verbose=True)"
   ]
  },
  {
   "cell_type": "code",
   "execution_count": null,
   "id": "4",
   "metadata": {},
   "outputs": [],
   "source": [
    "print('cwd = ', os.getcwd())\n",
    "print('\\nlistdir = ', os.listdir())\n",
    "print('\\nGTT_cache contains: ',os.listdir('../../../GTT_cache'))"
   ]
  },
  {
   "cell_type": "code",
   "execution_count": null,
   "id": "5",
   "metadata": {},
   "outputs": [],
   "source": []
  }
 ],
 "metadata": {
  "kernelspec": {
   "display_name": "Python 3 (ipykernel)",
   "language": "python",
   "name": "python3"
  },
  "language_info": {
   "codemirror_mode": {
    "name": "ipython",
    "version": 3
   },
   "file_extension": ".py",
   "mimetype": "text/x-python",
   "name": "python",
   "nbconvert_exporter": "python",
   "pygments_lexer": "ipython3",
   "version": "3.13.3"
  }
 },
 "nbformat": 4,
 "nbformat_minor": 5
}
