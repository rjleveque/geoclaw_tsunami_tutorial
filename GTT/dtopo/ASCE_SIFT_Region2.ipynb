{
 "cells": [
  {
   "cell_type": "markdown",
   "metadata": {},
   "source": [
    "# Make ASCE_SIFT_Region2 dtopo file\n",
    "\n",
    "This Jupyter notebook is available in `$GTT/dtopo/ASCE_SIFT_Region2.ipynb` within the\n",
    "[GeoClaw Tsunami Tutorial](https://rjleveque.github.io/geoclaw_tsunami_tutorial).\n",
    "\n",
    "It creates the file `$GTT/dtopo/dtopofiles/ASCE_SIFT_Region2.dtt3`, which can be used as a [dtopofile](https://www.clawpack.org/dtopo.html) in GeoClaw. \n",
    "\n",
    "### To do:\n",
    "- Add more description of ASCE, SIFT, unit sources\n",
    "- Plot transects\n",
    "- Make dtopo contours in kmz file\n",
    "\n",
    "### See also:\n",
    "\n",
    "- [dtopotools_examples notebook](https://www.clawpack.org/gallery/_static/apps/notebooks/geoclaw/dtopotools_examples.html)\n",
    "- [Okada notebook](https://www.clawpack.org/gallery/_static/apps/notebooks/geoclaw/Okada.html)\n",
    "\n",
    "## Note:\n",
    "\n",
    "This notebook currently fails when building the Jupyter Book on Github because it requires reading a text file that is not available in the `pip install` version of Clawpack.  This should be fixed with the next Clawpack release, which will include [GeoClaw PR #672](https://github.com/clawpack/geoclaw/pull/672).\n",
    "\n",
    "Rather than building this dtopofile, it is also possible to download it using `GTT/dtopo/fetch_ASCE_SIFT_Region2.py`."
   ]
  },
  {
   "cell_type": "markdown",
   "metadata": {},
   "source": [
    "### Setup notebook and environment:"
   ]
  },
  {
   "cell_type": "code",
   "execution_count": null,
   "metadata": {},
   "outputs": [],
   "source": [
    "%matplotlib inline"
   ]
  },
  {
   "cell_type": "code",
   "execution_count": null,
   "metadata": {},
   "outputs": [],
   "source": [
    "from pylab import *\n",
    "from clawpack.geoclaw import dtopotools, topotools"
   ]
  },
  {
   "cell_type": "code",
   "execution_count": null,
   "metadata": {},
   "outputs": [],
   "source": [
    "try:\n",
    "    f = dtopotools.SiftFault()\n",
    "except:\n",
    "    print('This notebook will fail due to the problem listed above.  \\nBut here is the plot it should produce:')\n",
    "    image = imread('dtopofiles/ASCE_SIFT_Region2.png')\n",
    "    figure(figsize=(12,6))\n",
    "    imshow(image)\n",
    "    axis('off')"
   ]
  },
  {
   "cell_type": "markdown",
   "metadata": {},
   "source": [
    "Load shoreline for plotting:"
   ]
  },
  {
   "cell_type": "code",
   "execution_count": null,
   "metadata": {},
   "outputs": [],
   "source": [
    "csz_shore = loadtxt('../topo/topofiles/csz_shore.txt')"
   ]
  },
  {
   "cell_type": "markdown",
   "metadata": {},
   "source": [
    "## Create a fault using the NOAA SIFT database\n",
    "\n",
    "This particular fault is specified in terms of the NOAA SIFT unit sources, so we can use the *clawpack.geoclaw.dtopotools.SiftFault* class, which takes as an argument a dictionary *sift_slip* specifying the unit sources to be used and the slip on each.  \n",
    "\n",
    "First we plot some of the unit sources on the CSZ margin."
   ]
  },
  {
   "cell_type": "code",
   "execution_count": null,
   "metadata": {},
   "outputs": [],
   "source": [
    "f = dtopotools.SiftFault()\n",
    "SIFT = f.sift_subfaults\n",
    "sift_slips = {}\n",
    "for k in SIFT.keys():\n",
    "    s = SIFT[k]  # subfault\n",
    "    s.longitude = s.longitude - 360.\n",
    "    if (-130 <=s.longitude <= -120) and (44 <= s.latitude <= 50):\n",
    "        if (k[4] in ['a','b']):\n",
    "            sift_slips[k] = 0."
   ]
  },
  {
   "cell_type": "code",
   "execution_count": null,
   "metadata": {},
   "outputs": [],
   "source": [
    "csz = dtopotools.SiftFault(sift_slips)\n",
    "for k in sift_slips.keys():\n",
    "    s = csz.sift_subfaults[k]  # subfault\n",
    "    s.longitude = s.longitude - 360.\n",
    "\n",
    "figure(figsize=(6,6))\n",
    "ax = axes()\n",
    "ax.plot(csz_shore[:,0], csz_shore[:,1], 'g')\n",
    "#axis([-140,-110,43,50])\n",
    "ax.set_xlim(-130,-120)\n",
    "ax.set_ylim(44,50)\n",
    "csz.plot_subfaults(axes=ax)\n",
    "ax.set_aspect(1./cos(55*pi/180.))\n",
    "\n",
    "for k in sift_slips.keys():\n",
    "    s = csz.sift_subfaults[k]  # subfault\n",
    "    if k[4] == 'a':\n",
    "        text(s.longitude, s.latitude, k, color='r')\n",
    "    else:\n",
    "        text(s.longitude-2, s.latitude, k, color='r')"
   ]
  },
  {
   "cell_type": "markdown",
   "metadata": {},
   "source": [
    "Slips provided by Yong Wei: 35*ac57a+35*ac57b+10*ac58a+33*ac58b+10*ac59a+24*ac59b+30*ac60a+30*ac60b"
   ]
  },
  {
   "cell_type": "code",
   "execution_count": null,
   "metadata": {},
   "outputs": [],
   "source": [
    "sift_slips = {'acsza57':35, 'acszb57':35 , 'acsza58':10 , 'acszb58':33 , 'acsza59':10 , 'acszb59':24 ,\n",
    "              'acsza60':30 , 'acszb60':30 }\n",
    "fault = dtopotools.SiftFault(sift_slips)\n",
    "for k in sift_slips.keys():\n",
    "    s = fault.sift_subfaults[k]  # subfault\n",
    "    s.longitude = s.longitude - 360."
   ]
  },
  {
   "cell_type": "code",
   "execution_count": null,
   "metadata": {},
   "outputs": [],
   "source": [
    "x,y = fault.create_dtopo_xy(dx=10./3600., buffer_size=1)\n",
    "print(x.shape, y.shape)"
   ]
  },
  {
   "cell_type": "code",
   "execution_count": null,
   "metadata": {},
   "outputs": [],
   "source": [
    "y.min(), y.max()"
   ]
  },
  {
   "cell_type": "code",
   "execution_count": null,
   "metadata": {},
   "outputs": [],
   "source": [
    "print('Creating dtopo by applying Okada model to %s subfaults...' % len(fault.subfaults))\n",
    "dtopo_SIFT = fault.create_dtopography(x,y, verbose=False)\n",
    "print('Done')"
   ]
  },
  {
   "cell_type": "markdown",
   "metadata": {},
   "source": [
    "## Plot the slip distribution and the resulting vertical deformation dz"
   ]
  },
  {
   "cell_type": "code",
   "execution_count": null,
   "metadata": {},
   "outputs": [],
   "source": [
    "# for setting color scale:\n",
    "dz_max = abs(dtopo_SIFT.dZ).max()\n",
    "print(\"maximum abs(dz) over the full rupture time:\", \\\n",
    "    abs(dtopo_SIFT.dZ).max())\n",
    "\n",
    "fig = figure(figsize=(12,6))\n",
    "ax1 = fig.add_subplot(121)\n",
    "ax2 = fig.add_subplot(122)\n",
    "fault.plot_subfaults(axes=ax1, slip_color=True)\n",
    "dtopo_SIFT.plot_dZ_colors(axes=ax2, t=1, cmax_dZ=dz_max)\n",
    "\n",
    "ax1.plot(csz_shore[:,0], csz_shore[:,1], 'g')\n",
    "ax1.set_xlim(-130,-120)\n",
    "ax1.set_ylim(42,50)\n",
    "ax1.set_aspect(1./cos(55*pi/180.))\n",
    "\n",
    "ax2.plot(csz_shore[:,0], csz_shore[:,1], 'g')\n",
    "ax2.set_xlim(-130,-120)\n",
    "ax2.set_ylim(42,50)\n",
    "ax2.set_aspect(1./cos(55*pi/180.));\n",
    "\n",
    "fname = 'dtopofiles/ASCE_SIFT_Region2.png'\n",
    "savefig(fname, bbox_inches='tight')\n",
    "print('Created ',fname)"
   ]
  },
  {
   "cell_type": "markdown",
   "metadata": {},
   "source": [
    "## Save as a dtopo file"
   ]
  },
  {
   "cell_type": "code",
   "execution_count": null,
   "metadata": {},
   "outputs": [],
   "source": [
    "fname = 'dtopofiles/ASCE_SIFT_Region2.dtt3'\n",
    "dtopo_SIFT.write(fname, dtopo_type=3)\n",
    "print('Created ',fname)"
   ]
  },
  {
   "cell_type": "code",
   "execution_count": null,
   "metadata": {},
   "outputs": [],
   "source": []
  }
 ],
 "metadata": {
  "kernelspec": {
   "display_name": "Python 3 (ipykernel)",
   "language": "python",
   "name": "python3"
  },
  "language_info": {
   "codemirror_mode": {
    "name": "ipython",
    "version": 3
   },
   "file_extension": ".py",
   "mimetype": "text/x-python",
   "name": "python",
   "nbconvert_exporter": "python",
   "pygments_lexer": "ipython3",
   "version": "3.13.3"
  }
 },
 "nbformat": 4,
 "nbformat_minor": 4
}
