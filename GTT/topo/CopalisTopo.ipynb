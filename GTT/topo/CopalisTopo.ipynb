{
 "cells": [
  {
   "attachments": {},
   "cell_type": "markdown",
   "id": "0",
   "metadata": {},
   "source": [
    "# Make topofiles for Copallis Beach\n",
    "\n",
    "This Jupyter notebook is available in `$GTT/topo/CopalisTopo.ipynb` within the\n",
    "[GeoClaw Tsunami Tutorial](https://rjleveque.github.io/geoclaw_tsunami_tutorial).\n",
    "\n",
    "It creates the file `$GTT/topo/topofiles/Copalis_13s.asc`, which can be used as a [topofile](https://www.clawpack.org/topo.html) in GeoClaw. The resolution is 1/3 arcsecond, and is created by coarsening a DEM with a 1/9\" resolution.\n",
    "\n",
    "The original DEM comes from the NOAA Centers for Environmental Information (NCEI) [Continuously Updated Digital Elevation Model (CUDEM) - 1/9 Arc-Second Resolution Bathymetric-Topographic Tiles](https://www.ncei.noaa.gov/access/metadata/landing-page/bin/iso?id=gov.noaa.ngdc.mgg.dem:999919).\n",
    "\n",
    "Note: This topofile can alternatively be downloaded using the `$GTT/topo/fetch_topo1.py` script."
   ]
  },
  {
   "cell_type": "code",
   "execution_count": null,
   "id": "1",
   "metadata": {},
   "outputs": [],
   "source": [
    "%matplotlib inline"
   ]
  },
  {
   "cell_type": "code",
   "execution_count": null,
   "id": "2",
   "metadata": {},
   "outputs": [],
   "source": [
    "from pylab import *\n",
    "from clawpack.geoclaw import topotools, kmltools\n",
    "from IPython.display import Image"
   ]
  },
  {
   "cell_type": "markdown",
   "id": "3",
   "metadata": {},
   "source": [
    "## Satellite imagery of the coast around Copalis Beach, WA\n",
    "\n",
    "(Obtained as a screenshot from Google Earth, and annotated to show the location of the ghost forest.)"
   ]
  },
  {
   "cell_type": "code",
   "execution_count": null,
   "id": "4",
   "metadata": {},
   "outputs": [],
   "source": [
    "Image('images/CopalisTopo0.jpg', width=700)"
   ]
  },
  {
   "cell_type": "markdown",
   "id": "5",
   "metadata": {},
   "source": [
    "## Create a kml file that helps us select the NCEI 1/9\" tile to use:\n",
    "\n",
    "Much of the coast is covered by new DEMs at the 1/9\" resolution that each cover 0.25 by 0.25 degrees. The tiles have names like `ncei19_n47x25_w0124x25_2018v1.nc` where NCEI refers to the National Center for Environmental Information and `n47x25_w0124x25` indicates the upper left corner is at (longitude, latitude) $=(-124.25, 47.25)$.\n",
    "\n",
    "The Python script `make_combined_tiles_kml.py` can be used to plot this tiling, which can help you figure out which tile(s) you need to cover the stretch of coastline you are interested in:"
   ]
  },
  {
   "cell_type": "code",
   "execution_count": null,
   "id": "6",
   "metadata": {},
   "outputs": [],
   "source": [
    "run make_combined_tiles_kml"
   ]
  },
  {
   "cell_type": "markdown",
   "id": "7",
   "metadata": {},
   "source": [
    "Open this kml file and click on the tile desired to see its name.  You should see something like this..."
   ]
  },
  {
   "cell_type": "code",
   "execution_count": null,
   "id": "8",
   "metadata": {},
   "outputs": [],
   "source": [
    "Image('images/CopalisTile.jpg', width=700)"
   ]
  },
  {
   "cell_type": "markdown",
   "id": "9",
   "metadata": {},
   "source": [
    "This tile can be found on the webpage https://www.ngdc.noaa.gov/thredds/catalog/tiles/tiled_19as/catalog.html\n",
    "You can download the entire tile from there, or use the OpenDAP url found at https://www.ngdc.noaa.gov/thredds/dodsC/tiles/tiled_19as/ncei19_n47x25_w0124x25_2018v1.nc.html"
   ]
  },
  {
   "cell_type": "code",
   "execution_count": null,
   "id": "10",
   "metadata": {},
   "outputs": [],
   "source": [
    "#path = 'ncei19_n47x25_w0124x25_2018v1.nc'   # if you downloaded the entire file from webpage\n",
    "path = 'https://www.ngdc.noaa.gov/thredds/dodsC/tiles/tiled_19as/ncei19_n47x25_w0124x25_2018v1.nc'"
   ]
  },
  {
   "cell_type": "markdown",
   "id": "11",
   "metadata": {},
   "source": [
    "Download a subset of this data, coarsened by 3 so it is at 1/3\" resolution:"
   ]
  },
  {
   "cell_type": "code",
   "execution_count": null,
   "id": "12",
   "metadata": {},
   "outputs": [],
   "source": [
    "extent = [-124.25, -124.1, 47.05, 47.22]\n",
    "try:\n",
    "    topo13s = topotools.read_netcdf(path, extent=extent, coarsen=3)\n",
    "    print('Downloaded cropped/coarsened topo \\nwith shape: ', topo13s.Z.shape)\n",
    "except:\n",
    "    raise Exception('*** failed to read topo data')"
   ]
  },
  {
   "cell_type": "markdown",
   "id": "13",
   "metadata": {},
   "source": [
    "Note that each 1/9\" tile has roughly $9*3600*0.25 = 8100$ points in $x$ and in $y$, but this coarsened subset is much smaller."
   ]
  },
  {
   "cell_type": "markdown",
   "id": "14",
   "metadata": {},
   "source": [
    "### Plot the coarsened subset:"
   ]
  },
  {
   "cell_type": "code",
   "execution_count": null,
   "id": "15",
   "metadata": {},
   "outputs": [],
   "source": [
    "figure(figsize=(10,10))\n",
    "ax = axes()\n",
    "topo13s.plot(axes=ax, limits=(-20,20), cb_kwargs={'shrink':0.5, 'extend':'both'});"
   ]
  },
  {
   "cell_type": "markdown",
   "id": "16",
   "metadata": {},
   "source": [
    "Note that this looks odd since the river mouth seems to be dry.\n",
    "\n",
    "That's because this data set is referenced to NAVD88 rather than MHW, which we will use for our tsunami modeling.\n",
    "(NAVD88 is the [North American Vertical Datum of 1988](https://geodesy.noaa.gov/datums/vertical/north-american-vertical-datum-1988.shtml), and MHW is Mean High Water, the average water level at high tide.)\n",
    "\n",
    "The offset can be estimated from the VDATUM website https://vdatum.noaa.gov/vdatumweb/\n",
    "Choose Region: west coast and Target MHW, then input a latitude, longitude on the Input side and click \"Transform\" to get an approximate Height..."
   ]
  },
  {
   "cell_type": "code",
   "execution_count": null,
   "id": "17",
   "metadata": {},
   "outputs": [],
   "source": [
    "Image('images/vdatum_copalis.jpg', width=700)"
   ]
  },
  {
   "cell_type": "markdown",
   "id": "18",
   "metadata": {},
   "source": [
    "So for Copalis, we should subtract roughly 2.091 m from all the elevations.\n",
    "\n",
    "(Note: vdatum seems to give approximately 2.1m for all coastal sites on the Cascadia margin, is this correct?)"
   ]
  },
  {
   "cell_type": "markdown",
   "id": "19",
   "metadata": {},
   "source": [
    "### Shift the Z array so that it gives elevations relative to MHW:"
   ]
  },
  {
   "cell_type": "code",
   "execution_count": null,
   "id": "20",
   "metadata": {},
   "outputs": [],
   "source": [
    "Zmhw = topo13s.Z - 2.091\n",
    "topo13s.set_xyZ(topo13s.x, topo13s.y, Zmhw)"
   ]
  },
  {
   "cell_type": "code",
   "execution_count": null,
   "id": "21",
   "metadata": {},
   "outputs": [],
   "source": [
    "figure(figsize=(10,10))\n",
    "ax = axes()\n",
    "topo13s.plot(axes=ax, limits=(-20,20), cb_kwargs={'shrink':0.7, 'extend':'both'})\n",
    "title('Copalis_13s.asc')\n",
    "fname = 'topofiles/Copalis_13s.png'\n",
    "savefig(fname, bbox_inches='tight');\n",
    "print('Created ',fname)"
   ]
  },
  {
   "cell_type": "markdown",
   "id": "22",
   "metadata": {},
   "source": [
    "This looks more reasonable.\n",
    "\n",
    "Save this file in `.asc` format (see [Topography data documentation](https://www.clawpack.org/topo.html)) with 3 digits (mm resolution):"
   ]
  },
  {
   "cell_type": "code",
   "execution_count": null,
   "id": "23",
   "metadata": {},
   "outputs": [],
   "source": [
    "fname = 'topofiles/Copalis_13s.asc'\n",
    "topo13s.write(fname, topo_type=3, header_style='asc', Z_format='%.3f')\n",
    "print('Created ',fname)"
   ]
  },
  {
   "cell_type": "markdown",
   "id": "24",
   "metadata": {},
   "source": [
    "This file can be read into GeoClaw as one of our topofiles."
   ]
  },
  {
   "cell_type": "markdown",
   "id": "25",
   "metadata": {},
   "source": [
    "## Create a kmz file to view the topography on Google Earth\n",
    "\n",
    "The plot above shows the topography file but to see how well it agrees with reality, it is nice to create plots on top of satellite imagery.  One nice way to do this is to wrap the plot together with a kml file that positions it on Google Earth into a kmz file:"
   ]
  },
  {
   "cell_type": "code",
   "execution_count": null,
   "id": "26",
   "metadata": {},
   "outputs": [],
   "source": [
    "kmltools.topo2kmz(topo13s, zlim=(-20,20), name='Copalis_13s')"
   ]
  },
  {
   "cell_type": "markdown",
   "id": "27",
   "metadata": {},
   "source": [
    "Opening the resulting kmz file in Google Earth displays the topography plots.  Here is a screenshot:"
   ]
  },
  {
   "cell_type": "code",
   "execution_count": null,
   "id": "28",
   "metadata": {},
   "outputs": [],
   "source": [
    "Image('images/CopalisTopo1.jpg', width=700)"
   ]
  },
  {
   "cell_type": "markdown",
   "id": "29",
   "metadata": {},
   "source": [
    "Note that there is an artifact along the east edge, presumably only lower-resolution lidar data was available east of the seam.\n",
    "\n",
    "If you view the kmz file on Google Earth, you can zoom into to regions of interest.  You can also adjust the transparency of the color plot so that the background image show through. You can also turn on or off the land and water layers separately.\n",
    "\n",
    "If we turn off the land layer and look at only the water layer, which shows the region below `B = 0` (which should be roughly MHW), we see the view below. Note from this view that the mouth of the river is slightly farther north in the satelite image than in the DEM.\n",
    "\n",
    "**TODO:** Note that the beach is rapidly evolving and perhaps show some historical maps of how much it has changed. Also note that topography in 1700 was *very* different, and the river probably went straight out to the sea. (So can't expect to model 1700 event at the ghost forest well on today topography!)"
   ]
  },
  {
   "cell_type": "code",
   "execution_count": null,
   "id": "30",
   "metadata": {},
   "outputs": [],
   "source": [
    "Image('images/CopalisTopo2.jpg', width=700)"
   ]
  },
  {
   "cell_type": "code",
   "execution_count": null,
   "id": "31",
   "metadata": {},
   "outputs": [],
   "source": []
  }
 ],
 "metadata": {
  "kernelspec": {
   "display_name": "Python 3 (ipykernel)",
   "language": "python",
   "name": "python3"
  },
  "language_info": {
   "codemirror_mode": {
    "name": "ipython",
    "version": 3
   },
   "file_extension": ".py",
   "mimetype": "text/x-python",
   "name": "python",
   "nbconvert_exporter": "python",
   "pygments_lexer": "ipython3",
   "version": "3.13.3"
  }
 },
 "nbformat": 4,
 "nbformat_minor": 5
}
