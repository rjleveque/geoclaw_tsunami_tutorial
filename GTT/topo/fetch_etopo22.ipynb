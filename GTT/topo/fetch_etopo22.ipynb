{
 "cells": [
  {
   "cell_type": "markdown",
   "id": "0",
   "metadata": {},
   "source": [
    "# Download etopo22 topography\n",
    "\n",
    "This Jupyter notebook is available in `$GTT/topo/fetch_etopo22.ipynb` within the\n",
    "[GeoClaw Tsunami Tutorial](https://rjleveque.github.io/geoclaw_tsunami_tutorial).\n",
    "\n",
    "It creates the file `$GTT/topo/topofiles/etopo22_30s_-130_-122_40_50_30sec.asc`, which can be used as a [topofile](https://www.clawpack.org/topo.html) in GeoClaw. The resolution is 30 arcsecond.\n",
    "\n",
    "The etopo22 dataset is described on the webpage\n",
    "[ETOPO 2022 15 Arc-Second Global Relief Model](https://data.noaa.gov/metaview/page?xml=NOAA/NESDIS/NGDC/MGG/DEM//iso/xml/etopo_2022.xml&view=getDataView&header=none).\n",
    "\n",
    "Note that there is also a 15 arcsecond database, but it is split up into tiles and so it's a bit harder to download an arbitrary subset by the approach used here, and you may have to download pieces and stitch them together.\n",
    "\n",
    "For most purposes 30\" topography is more than adequate in the ocean, since in GeoClaw the topofile used for the deep ocean is usually augmented by one or more coastal DEMs at much higher resolution.\n",
    "\n",
    "Note: This topofile can alternatively be downloaded using the `$GTT/topo/fetch_topo1.py` script."
   ]
  },
  {
   "cell_type": "code",
   "execution_count": null,
   "id": "1",
   "metadata": {},
   "outputs": [],
   "source": [
    "%matplotlib inline"
   ]
  },
  {
   "cell_type": "code",
   "execution_count": null,
   "id": "2",
   "metadata": {},
   "outputs": [],
   "source": [
    "from pylab import *\n",
    "import os\n",
    "from clawpack.geoclaw import topotools"
   ]
  },
  {
   "cell_type": "markdown",
   "id": "3",
   "metadata": {},
   "source": [
    "Set the limits of the domain and resolution desired:"
   ]
  },
  {
   "cell_type": "code",
   "execution_count": null,
   "id": "4",
   "metadata": {},
   "outputs": [],
   "source": [
    "extent = [-130, -122, 40, 50]\n",
    "coarsen = 1\n",
    "arcsec = coarsen * 30\n",
    "print('Will download etopo22_30s data at %i arcsecond resolution' % arcsec)"
   ]
  },
  {
   "cell_type": "code",
   "execution_count": null,
   "id": "5",
   "metadata": {},
   "outputs": [],
   "source": [
    "url_thredds = 'https://www.ngdc.noaa.gov/thredds/dodsC/global/ETOPO2022/30s/30s_bed_elev_netcdf/ETOPO_2022_v1_30s_N90W180_bed.nc'\n",
    "topo = topotools.read_netcdf(url_thredds, extent=extent,\n",
    "                             coarsen=coarsen, verbose=True)"
   ]
  },
  {
   "cell_type": "code",
   "execution_count": null,
   "id": "6",
   "metadata": {},
   "outputs": [],
   "source": [
    "name = 'etopo22_30s_%s_%s_%s_%s_%ssec' % tuple(extent + [arcsec])\n",
    "fname = 'topofiles/%s.asc' % name\n",
    "topo.write(fname, topo_type=3, header_style='asc',\n",
    "           grid_registration='llcorner', Z_format='%.0f')\n",
    "print('Created ',fname)"
   ]
  },
  {
   "cell_type": "markdown",
   "id": "7",
   "metadata": {},
   "source": [
    "## Make a plot"
   ]
  },
  {
   "cell_type": "code",
   "execution_count": null,
   "id": "8",
   "metadata": {},
   "outputs": [],
   "source": [
    "figure(figsize=(10,8))\n",
    "ax = axes()\n",
    "topo.plot(axes=ax, limits=(-3000,1000),\n",
    "          cb_kwargs={'extend':'both','shrink':0.7})\n",
    "title(name)\n",
    "fname = fname.replace('.asc', '.png')\n",
    "savefig(fname)\n",
    "print('Created ', fname)"
   ]
  },
  {
   "cell_type": "markdown",
   "id": "9",
   "metadata": {},
   "source": [
    "## Make a file containing the shoreline\n",
    "\n",
    "This is only done so that the shoreline can be read in and plotted in other notebooks, e.g. [](../dtopo/ASCE_SIFT_Region2).  This saves the shoreline as a collection of piecewise linear segments, with x and y values in `csz_shore[:,0]` and `csz_shore[:,1]` respectively."
   ]
  },
  {
   "cell_type": "code",
   "execution_count": null,
   "id": "10",
   "metadata": {},
   "outputs": [],
   "source": [
    "csz_shore = topo.make_shoreline_xy()\n",
    "fname = 'topofiles/csz_shore.txt'\n",
    "savetxt(fname, csz_shore)\n",
    "print('saved csz_shore from etopo1 in ',fname)"
   ]
  },
  {
   "cell_type": "code",
   "execution_count": null,
   "id": "11",
   "metadata": {},
   "outputs": [],
   "source": []
  }
 ],
 "metadata": {
  "kernelspec": {
   "display_name": "Python 3 (ipykernel)",
   "language": "python",
   "name": "python3"
  },
  "language_info": {
   "codemirror_mode": {
    "name": "ipython",
    "version": 3
   },
   "file_extension": ".py",
   "mimetype": "text/x-python",
   "name": "python",
   "nbconvert_exporter": "python",
   "pygments_lexer": "ipython3",
   "version": "3.13.3"
  }
 },
 "nbformat": 4,
 "nbformat_minor": 5
}
